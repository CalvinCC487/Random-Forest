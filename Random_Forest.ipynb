{
  "nbformat": 4,
  "nbformat_minor": 0,
  "metadata": {
    "colab": {
      "name": "Random Forest",
      "provenance": [],
      "collapsed_sections": []
    },
    "kernelspec": {
      "name": "python3",
      "display_name": "Python 3"
    },
    "language_info": {
      "name": "python"
    }
  },
  "cells": [
    {
      "cell_type": "code",
      "metadata": {
        "id": "VcHNhTK7YM8y"
      },
      "source": [
        "# Service satisfaction Prediction\n",
        "\n",
        "# Import dataset\n",
        "import numpy as np\n",
        "import pandas as pd\n",
        "\n",
        "service_train  = pd.read_csv(\"Invistico_Airline.csv\")"
      ],
      "execution_count": null,
      "outputs": []
    },
    {
      "cell_type": "code",
      "metadata": {
        "colab": {
          "base_uri": "https://localhost:8080/"
        },
        "id": "SnlidEnOU1jH",
        "outputId": "8bfd5732-241e-4287-e63b-a5cd51065c00"
      },
      "source": [
        "# view dimensions of dataset\n",
        "service_train.shape"
      ],
      "execution_count": null,
      "outputs": [
        {
          "output_type": "execute_result",
          "data": {
            "text/plain": [
              "(129880, 23)"
            ]
          },
          "metadata": {},
          "execution_count": 2
        }
      ]
    },
    {
      "cell_type": "code",
      "metadata": {
        "colab": {
          "base_uri": "https://localhost:8080/"
        },
        "id": "_FX2lSZ6VjmD",
        "outputId": "313be2b6-c4b1-4cc6-d724-fa53211a784d"
      },
      "source": [
        "# view summary of dataset\n",
        "service_train.info()"
      ],
      "execution_count": null,
      "outputs": [
        {
          "output_type": "stream",
          "name": "stdout",
          "text": [
            "<class 'pandas.core.frame.DataFrame'>\n",
            "RangeIndex: 129880 entries, 0 to 129879\n",
            "Data columns (total 23 columns):\n",
            " #   Column                             Non-Null Count   Dtype  \n",
            "---  ------                             --------------   -----  \n",
            " 0   satisfaction                       129880 non-null  object \n",
            " 1   Gender                             129880 non-null  object \n",
            " 2   Customer Type                      129880 non-null  object \n",
            " 3   Age                                129880 non-null  int64  \n",
            " 4   Type of Travel                     129880 non-null  object \n",
            " 5   Class                              129880 non-null  object \n",
            " 6   Flight Distance                    129880 non-null  int64  \n",
            " 7   Seat comfort                       129880 non-null  int64  \n",
            " 8   Departure/Arrival time convenient  129880 non-null  int64  \n",
            " 9   Food and drink                     129880 non-null  int64  \n",
            " 10  Gate location                      129880 non-null  int64  \n",
            " 11  Inflight wifi service              129880 non-null  int64  \n",
            " 12  Inflight entertainment             129880 non-null  int64  \n",
            " 13  Online support                     129880 non-null  int64  \n",
            " 14  Ease of Online booking             129880 non-null  int64  \n",
            " 15  On-board service                   129880 non-null  int64  \n",
            " 16  Leg room service                   129880 non-null  int64  \n",
            " 17  Baggage handling                   129880 non-null  int64  \n",
            " 18  Checkin service                    129880 non-null  int64  \n",
            " 19  Cleanliness                        129880 non-null  int64  \n",
            " 20  Online boarding                    129880 non-null  int64  \n",
            " 21  Departure Delay in Minutes         129880 non-null  int64  \n",
            " 22  Arrival Delay in Minutes           129487 non-null  float64\n",
            "dtypes: float64(1), int64(17), object(5)\n",
            "memory usage: 22.8+ MB\n"
          ]
        }
      ]
    },
    {
      "cell_type": "code",
      "metadata": {
        "colab": {
          "base_uri": "https://localhost:8080/",
          "height": 293
        },
        "id": "T5uXZV-kYzCh",
        "outputId": "692b57eb-80b5-48e9-8bdc-fd4956583fb8"
      },
      "source": [
        "# find categorical variables\n",
        "categorical = [var for var in service_train.columns if service_train[var].dtype=='O']\n",
        "print('There are {} categorical variables\\n'.format(len(categorical)))\n",
        "\n",
        "print('The categorical variables are :\\n\\n', categorical)\n",
        "service_train[categorical].head()"
      ],
      "execution_count": null,
      "outputs": [
        {
          "output_type": "stream",
          "name": "stdout",
          "text": [
            "There are 5 categorical variables\n",
            "\n",
            "The categorical variables are :\n",
            "\n",
            " ['satisfaction', 'Gender', 'Customer Type', 'Type of Travel', 'Class']\n"
          ]
        },
        {
          "output_type": "execute_result",
          "data": {
            "text/html": [
              "<div>\n",
              "<style scoped>\n",
              "    .dataframe tbody tr th:only-of-type {\n",
              "        vertical-align: middle;\n",
              "    }\n",
              "\n",
              "    .dataframe tbody tr th {\n",
              "        vertical-align: top;\n",
              "    }\n",
              "\n",
              "    .dataframe thead th {\n",
              "        text-align: right;\n",
              "    }\n",
              "</style>\n",
              "<table border=\"1\" class=\"dataframe\">\n",
              "  <thead>\n",
              "    <tr style=\"text-align: right;\">\n",
              "      <th></th>\n",
              "      <th>satisfaction</th>\n",
              "      <th>Gender</th>\n",
              "      <th>Customer Type</th>\n",
              "      <th>Type of Travel</th>\n",
              "      <th>Class</th>\n",
              "    </tr>\n",
              "  </thead>\n",
              "  <tbody>\n",
              "    <tr>\n",
              "      <th>0</th>\n",
              "      <td>satisfied</td>\n",
              "      <td>Female</td>\n",
              "      <td>Loyal Customer</td>\n",
              "      <td>Personal Travel</td>\n",
              "      <td>Eco</td>\n",
              "    </tr>\n",
              "    <tr>\n",
              "      <th>1</th>\n",
              "      <td>satisfied</td>\n",
              "      <td>Male</td>\n",
              "      <td>Loyal Customer</td>\n",
              "      <td>Personal Travel</td>\n",
              "      <td>Business</td>\n",
              "    </tr>\n",
              "    <tr>\n",
              "      <th>2</th>\n",
              "      <td>satisfied</td>\n",
              "      <td>Female</td>\n",
              "      <td>Loyal Customer</td>\n",
              "      <td>Personal Travel</td>\n",
              "      <td>Eco</td>\n",
              "    </tr>\n",
              "    <tr>\n",
              "      <th>3</th>\n",
              "      <td>satisfied</td>\n",
              "      <td>Female</td>\n",
              "      <td>Loyal Customer</td>\n",
              "      <td>Personal Travel</td>\n",
              "      <td>Eco</td>\n",
              "    </tr>\n",
              "    <tr>\n",
              "      <th>4</th>\n",
              "      <td>satisfied</td>\n",
              "      <td>Female</td>\n",
              "      <td>Loyal Customer</td>\n",
              "      <td>Personal Travel</td>\n",
              "      <td>Eco</td>\n",
              "    </tr>\n",
              "  </tbody>\n",
              "</table>\n",
              "</div>"
            ],
            "text/plain": [
              "  satisfaction  Gender   Customer Type   Type of Travel     Class\n",
              "0    satisfied  Female  Loyal Customer  Personal Travel       Eco\n",
              "1    satisfied    Male  Loyal Customer  Personal Travel  Business\n",
              "2    satisfied  Female  Loyal Customer  Personal Travel       Eco\n",
              "3    satisfied  Female  Loyal Customer  Personal Travel       Eco\n",
              "4    satisfied  Female  Loyal Customer  Personal Travel       Eco"
            ]
          },
          "metadata": {},
          "execution_count": 4
        }
      ]
    },
    {
      "cell_type": "code",
      "metadata": {
        "id": "CToEDAzGeTB4"
      },
      "source": [
        "#replace satisfaction value, 1 is satisfied, 0 is dissatisfied\n",
        "service_train.replace(to_replace=\"satisfied\", value=1, inplace=True)\n",
        "service_train.replace(to_replace=\"dissatisfied\", value=0, inplace=True)"
      ],
      "execution_count": null,
      "outputs": []
    },
    {
      "cell_type": "code",
      "metadata": {
        "colab": {
          "base_uri": "https://localhost:8080/"
        },
        "id": "WnqvTl4JiI-Y",
        "outputId": "da7b74dc-4fe8-49a3-d36f-559b0991bb12"
      },
      "source": [
        "#check 'satisfaction'\n",
        "service_train['satisfaction']"
      ],
      "execution_count": null,
      "outputs": [
        {
          "output_type": "execute_result",
          "data": {
            "text/plain": [
              "0         1\n",
              "1         1\n",
              "2         1\n",
              "3         1\n",
              "4         1\n",
              "         ..\n",
              "129875    1\n",
              "129876    0\n",
              "129877    0\n",
              "129878    0\n",
              "129879    0\n",
              "Name: satisfaction, Length: 129880, dtype: int64"
            ]
          },
          "metadata": {},
          "execution_count": 6
        }
      ]
    },
    {
      "cell_type": "code",
      "metadata": {
        "colab": {
          "base_uri": "https://localhost:8080/"
        },
        "id": "yrWwLx-KZvDo",
        "outputId": "419c83f2-9439-479b-a2ba-3bc74016e10c"
      },
      "source": [
        "# check missing values in categorical variables\n",
        "service_train[categorical].isnull().sum()"
      ],
      "execution_count": null,
      "outputs": [
        {
          "output_type": "execute_result",
          "data": {
            "text/plain": [
              "satisfaction      0\n",
              "Gender            0\n",
              "Customer Type     0\n",
              "Type of Travel    0\n",
              "Class             0\n",
              "dtype: int64"
            ]
          },
          "metadata": {},
          "execution_count": 7
        }
      ]
    },
    {
      "cell_type": "code",
      "metadata": {
        "colab": {
          "base_uri": "https://localhost:8080/"
        },
        "id": "g1cgPtOHZ_Pp",
        "outputId": "1e220afc-5cee-4fdf-9ca6-a2819a8579ff"
      },
      "source": [
        "# view frequency counts of values in categorical variables\n",
        "for var in categorical: \n",
        "    \n",
        "    print(service_train[var].value_counts())"
      ],
      "execution_count": null,
      "outputs": [
        {
          "output_type": "stream",
          "name": "stdout",
          "text": [
            "1    71087\n",
            "0    58793\n",
            "Name: satisfaction, dtype: int64\n",
            "Female    65899\n",
            "Male      63981\n",
            "Name: Gender, dtype: int64\n",
            "Loyal Customer       106100\n",
            "disloyal Customer     23780\n",
            "Name: Customer Type, dtype: int64\n",
            "Business travel    89693\n",
            "Personal Travel    40187\n",
            "Name: Type of Travel, dtype: int64\n",
            "Business    62160\n",
            "Eco         58309\n",
            "Eco Plus     9411\n",
            "Name: Class, dtype: int64\n"
          ]
        }
      ]
    },
    {
      "cell_type": "code",
      "metadata": {
        "colab": {
          "base_uri": "https://localhost:8080/"
        },
        "id": "LfFLPuMvbbHY",
        "outputId": "2426ba07-5220-4a5c-de1b-4c104191c819"
      },
      "source": [
        "# check for cardinality in categorical variables\n",
        "for var in categorical:\n",
        "    \n",
        "    print(var, ' contains ', len(service_train[var].unique()), ' labels')"
      ],
      "execution_count": null,
      "outputs": [
        {
          "output_type": "stream",
          "name": "stdout",
          "text": [
            "satisfaction  contains  2  labels\n",
            "Gender  contains  2  labels\n",
            "Customer Type  contains  2  labels\n",
            "Type of Travel  contains  2  labels\n",
            "Class  contains  3  labels\n"
          ]
        }
      ]
    },
    {
      "cell_type": "code",
      "metadata": {
        "colab": {
          "base_uri": "https://localhost:8080/",
          "height": 330
        },
        "id": "87lMdAqdboPA",
        "outputId": "59f3b2e6-4701-4719-f711-509d020e61c5"
      },
      "source": [
        "# find numerical variables\n",
        "numerical = [var for var in service_train.columns if service_train[var].dtype!='O']\n",
        "\n",
        "print('There are {} numerical variables\\n'.format(len(numerical)))\n",
        "\n",
        "print('The numerical variables are :', numerical)\n",
        "service_train[numerical].head()"
      ],
      "execution_count": null,
      "outputs": [
        {
          "output_type": "stream",
          "name": "stdout",
          "text": [
            "There are 19 numerical variables\n",
            "\n",
            "The numerical variables are : ['satisfaction', 'Age', 'Flight Distance', 'Seat comfort', 'Departure/Arrival time convenient', 'Food and drink', 'Gate location', 'Inflight wifi service', 'Inflight entertainment', 'Online support', 'Ease of Online booking', 'On-board service', 'Leg room service', 'Baggage handling', 'Checkin service', 'Cleanliness', 'Online boarding', 'Departure Delay in Minutes', 'Arrival Delay in Minutes']\n"
          ]
        },
        {
          "output_type": "execute_result",
          "data": {
            "text/html": [
              "<div>\n",
              "<style scoped>\n",
              "    .dataframe tbody tr th:only-of-type {\n",
              "        vertical-align: middle;\n",
              "    }\n",
              "\n",
              "    .dataframe tbody tr th {\n",
              "        vertical-align: top;\n",
              "    }\n",
              "\n",
              "    .dataframe thead th {\n",
              "        text-align: right;\n",
              "    }\n",
              "</style>\n",
              "<table border=\"1\" class=\"dataframe\">\n",
              "  <thead>\n",
              "    <tr style=\"text-align: right;\">\n",
              "      <th></th>\n",
              "      <th>satisfaction</th>\n",
              "      <th>Age</th>\n",
              "      <th>Flight Distance</th>\n",
              "      <th>Seat comfort</th>\n",
              "      <th>Departure/Arrival time convenient</th>\n",
              "      <th>Food and drink</th>\n",
              "      <th>Gate location</th>\n",
              "      <th>Inflight wifi service</th>\n",
              "      <th>Inflight entertainment</th>\n",
              "      <th>Online support</th>\n",
              "      <th>Ease of Online booking</th>\n",
              "      <th>On-board service</th>\n",
              "      <th>Leg room service</th>\n",
              "      <th>Baggage handling</th>\n",
              "      <th>Checkin service</th>\n",
              "      <th>Cleanliness</th>\n",
              "      <th>Online boarding</th>\n",
              "      <th>Departure Delay in Minutes</th>\n",
              "      <th>Arrival Delay in Minutes</th>\n",
              "    </tr>\n",
              "  </thead>\n",
              "  <tbody>\n",
              "    <tr>\n",
              "      <th>0</th>\n",
              "      <td>1</td>\n",
              "      <td>65</td>\n",
              "      <td>265</td>\n",
              "      <td>0</td>\n",
              "      <td>0</td>\n",
              "      <td>0</td>\n",
              "      <td>2</td>\n",
              "      <td>2</td>\n",
              "      <td>4</td>\n",
              "      <td>2</td>\n",
              "      <td>3</td>\n",
              "      <td>3</td>\n",
              "      <td>0</td>\n",
              "      <td>3</td>\n",
              "      <td>5</td>\n",
              "      <td>3</td>\n",
              "      <td>2</td>\n",
              "      <td>0</td>\n",
              "      <td>0.0</td>\n",
              "    </tr>\n",
              "    <tr>\n",
              "      <th>1</th>\n",
              "      <td>1</td>\n",
              "      <td>47</td>\n",
              "      <td>2464</td>\n",
              "      <td>0</td>\n",
              "      <td>0</td>\n",
              "      <td>0</td>\n",
              "      <td>3</td>\n",
              "      <td>0</td>\n",
              "      <td>2</td>\n",
              "      <td>2</td>\n",
              "      <td>3</td>\n",
              "      <td>4</td>\n",
              "      <td>4</td>\n",
              "      <td>4</td>\n",
              "      <td>2</td>\n",
              "      <td>3</td>\n",
              "      <td>2</td>\n",
              "      <td>310</td>\n",
              "      <td>305.0</td>\n",
              "    </tr>\n",
              "    <tr>\n",
              "      <th>2</th>\n",
              "      <td>1</td>\n",
              "      <td>15</td>\n",
              "      <td>2138</td>\n",
              "      <td>0</td>\n",
              "      <td>0</td>\n",
              "      <td>0</td>\n",
              "      <td>3</td>\n",
              "      <td>2</td>\n",
              "      <td>0</td>\n",
              "      <td>2</td>\n",
              "      <td>2</td>\n",
              "      <td>3</td>\n",
              "      <td>3</td>\n",
              "      <td>4</td>\n",
              "      <td>4</td>\n",
              "      <td>4</td>\n",
              "      <td>2</td>\n",
              "      <td>0</td>\n",
              "      <td>0.0</td>\n",
              "    </tr>\n",
              "    <tr>\n",
              "      <th>3</th>\n",
              "      <td>1</td>\n",
              "      <td>60</td>\n",
              "      <td>623</td>\n",
              "      <td>0</td>\n",
              "      <td>0</td>\n",
              "      <td>0</td>\n",
              "      <td>3</td>\n",
              "      <td>3</td>\n",
              "      <td>4</td>\n",
              "      <td>3</td>\n",
              "      <td>1</td>\n",
              "      <td>1</td>\n",
              "      <td>0</td>\n",
              "      <td>1</td>\n",
              "      <td>4</td>\n",
              "      <td>1</td>\n",
              "      <td>3</td>\n",
              "      <td>0</td>\n",
              "      <td>0.0</td>\n",
              "    </tr>\n",
              "    <tr>\n",
              "      <th>4</th>\n",
              "      <td>1</td>\n",
              "      <td>70</td>\n",
              "      <td>354</td>\n",
              "      <td>0</td>\n",
              "      <td>0</td>\n",
              "      <td>0</td>\n",
              "      <td>3</td>\n",
              "      <td>4</td>\n",
              "      <td>3</td>\n",
              "      <td>4</td>\n",
              "      <td>2</td>\n",
              "      <td>2</td>\n",
              "      <td>0</td>\n",
              "      <td>2</td>\n",
              "      <td>4</td>\n",
              "      <td>2</td>\n",
              "      <td>5</td>\n",
              "      <td>0</td>\n",
              "      <td>0.0</td>\n",
              "    </tr>\n",
              "  </tbody>\n",
              "</table>\n",
              "</div>"
            ],
            "text/plain": [
              "   satisfaction  Age  ...  Departure Delay in Minutes  Arrival Delay in Minutes\n",
              "0             1   65  ...                           0                       0.0\n",
              "1             1   47  ...                         310                     305.0\n",
              "2             1   15  ...                           0                       0.0\n",
              "3             1   60  ...                           0                       0.0\n",
              "4             1   70  ...                           0                       0.0\n",
              "\n",
              "[5 rows x 19 columns]"
            ]
          },
          "metadata": {},
          "execution_count": 10
        }
      ]
    },
    {
      "cell_type": "code",
      "metadata": {
        "colab": {
          "base_uri": "https://localhost:8080/"
        },
        "id": "0s5mESf3bu8u",
        "outputId": "5c284b3c-0787-41a2-8e7b-a349c668f15a"
      },
      "source": [
        "# check missing values in numerical variables\n",
        "service_train[numerical].isnull().sum()"
      ],
      "execution_count": null,
      "outputs": [
        {
          "output_type": "execute_result",
          "data": {
            "text/plain": [
              "satisfaction                           0\n",
              "Age                                    0\n",
              "Flight Distance                        0\n",
              "Seat comfort                           0\n",
              "Departure/Arrival time convenient      0\n",
              "Food and drink                         0\n",
              "Gate location                          0\n",
              "Inflight wifi service                  0\n",
              "Inflight entertainment                 0\n",
              "Online support                         0\n",
              "Ease of Online booking                 0\n",
              "On-board service                       0\n",
              "Leg room service                       0\n",
              "Baggage handling                       0\n",
              "Checkin service                        0\n",
              "Cleanliness                            0\n",
              "Online boarding                        0\n",
              "Departure Delay in Minutes             0\n",
              "Arrival Delay in Minutes             393\n",
              "dtype: int64"
            ]
          },
          "metadata": {},
          "execution_count": 11
        }
      ]
    },
    {
      "cell_type": "code",
      "metadata": {
        "id": "Y-TxZT7uiZmc"
      },
      "source": [
        "# replace 'NaN' values in Arrival Delay in Minutes variable with 0\n",
        "service_train['Arrival Delay in Minutes'].replace(np.nan, 0, inplace=True)"
      ],
      "execution_count": null,
      "outputs": []
    },
    {
      "cell_type": "code",
      "metadata": {
        "colab": {
          "base_uri": "https://localhost:8080/"
        },
        "id": "UFhnoAvji8W7",
        "outputId": "c93e1986-40c4-42b5-f5ab-50ae70675a5b"
      },
      "source": [
        "# check missing values in numerical variables again\n",
        "service_train[numerical].isnull().sum()"
      ],
      "execution_count": null,
      "outputs": [
        {
          "output_type": "execute_result",
          "data": {
            "text/plain": [
              "satisfaction                         0\n",
              "Age                                  0\n",
              "Flight Distance                      0\n",
              "Seat comfort                         0\n",
              "Departure/Arrival time convenient    0\n",
              "Food and drink                       0\n",
              "Gate location                        0\n",
              "Inflight wifi service                0\n",
              "Inflight entertainment               0\n",
              "Online support                       0\n",
              "Ease of Online booking               0\n",
              "On-board service                     0\n",
              "Leg room service                     0\n",
              "Baggage handling                     0\n",
              "Checkin service                      0\n",
              "Cleanliness                          0\n",
              "Online boarding                      0\n",
              "Departure Delay in Minutes           0\n",
              "Arrival Delay in Minutes             0\n",
              "dtype: int64"
            ]
          },
          "metadata": {},
          "execution_count": 13
        }
      ]
    },
    {
      "cell_type": "code",
      "metadata": {
        "id": "v-h76QQRlGJL"
      },
      "source": [
        "#Declare feature vector and target variable\n",
        "X = service_train.drop(['satisfaction'], axis=1)\n",
        "\n",
        "y = service_train['satisfaction']"
      ],
      "execution_count": null,
      "outputs": []
    },
    {
      "cell_type": "code",
      "metadata": {
        "id": "IOHLHrx7iGAy"
      },
      "source": [
        "from sklearn import model_selection \n",
        " \n",
        "X_train, X_test, y_train, y_test = model_selection.train_test_split(X, y,test_size=0.2, random_state=55)"
      ],
      "execution_count": null,
      "outputs": []
    },
    {
      "cell_type": "code",
      "metadata": {
        "colab": {
          "base_uri": "https://localhost:8080/"
        },
        "id": "IF3PHvCclsX1",
        "outputId": "5479e2be-7218-4318-edbf-7f01475c2b96"
      },
      "source": [
        "# display categorical variables\n",
        "\n",
        "categorical = [col for col in X_train.columns if X_train[col].dtypes == 'O']\n",
        "\n",
        "categorical"
      ],
      "execution_count": null,
      "outputs": [
        {
          "output_type": "execute_result",
          "data": {
            "text/plain": [
              "['Gender', 'Customer Type', 'Type of Travel', 'Class']"
            ]
          },
          "metadata": {},
          "execution_count": 16
        }
      ]
    },
    {
      "cell_type": "code",
      "metadata": {
        "colab": {
          "base_uri": "https://localhost:8080/"
        },
        "id": "kWR92Rtllt2x",
        "outputId": "7eb360f0-db6a-4ed5-a9c4-cd5cb3480bde"
      },
      "source": [
        "# display numerical variables\n",
        "\n",
        "numerical = [col for col in X_train.columns if X_train[col].dtypes != 'O']\n",
        "\n",
        "numerical"
      ],
      "execution_count": null,
      "outputs": [
        {
          "output_type": "execute_result",
          "data": {
            "text/plain": [
              "['Age',\n",
              " 'Flight Distance',\n",
              " 'Seat comfort',\n",
              " 'Departure/Arrival time convenient',\n",
              " 'Food and drink',\n",
              " 'Gate location',\n",
              " 'Inflight wifi service',\n",
              " 'Inflight entertainment',\n",
              " 'Online support',\n",
              " 'Ease of Online booking',\n",
              " 'On-board service',\n",
              " 'Leg room service',\n",
              " 'Baggage handling',\n",
              " 'Checkin service',\n",
              " 'Cleanliness',\n",
              " 'Online boarding',\n",
              " 'Departure Delay in Minutes',\n",
              " 'Arrival Delay in Minutes']"
            ]
          },
          "metadata": {},
          "execution_count": 17
        }
      ]
    },
    {
      "cell_type": "code",
      "metadata": {
        "colab": {
          "base_uri": "https://localhost:8080/"
        },
        "id": "AN9YtK9ulwXZ",
        "outputId": "410cd007-4b90-41a6-f7c2-9f77376a01a2"
      },
      "source": [
        "# import category encoders\n",
        "!pip install category_encoders\n",
        "import category_encoders as ce"
      ],
      "execution_count": null,
      "outputs": [
        {
          "output_type": "stream",
          "name": "stdout",
          "text": [
            "Collecting category_encoders\n",
            "  Downloading category_encoders-2.3.0-py2.py3-none-any.whl (82 kB)\n",
            "\u001b[?25l\r\u001b[K     |████                            | 10 kB 22.5 MB/s eta 0:00:01\r\u001b[K     |████████                        | 20 kB 27.6 MB/s eta 0:00:01\r\u001b[K     |████████████                    | 30 kB 30.8 MB/s eta 0:00:01\r\u001b[K     |████████████████                | 40 kB 34.2 MB/s eta 0:00:01\r\u001b[K     |████████████████████            | 51 kB 35.9 MB/s eta 0:00:01\r\u001b[K     |████████████████████████        | 61 kB 31.8 MB/s eta 0:00:01\r\u001b[K     |████████████████████████████    | 71 kB 30.9 MB/s eta 0:00:01\r\u001b[K     |███████████████████████████████▉| 81 kB 31.5 MB/s eta 0:00:01\r\u001b[K     |████████████████████████████████| 82 kB 375 kB/s \n",
            "\u001b[?25hRequirement already satisfied: patsy>=0.5.1 in /usr/local/lib/python3.7/dist-packages (from category_encoders) (0.5.2)\n",
            "Requirement already satisfied: scikit-learn>=0.20.0 in /usr/local/lib/python3.7/dist-packages (from category_encoders) (1.0.1)\n",
            "Requirement already satisfied: scipy>=1.0.0 in /usr/local/lib/python3.7/dist-packages (from category_encoders) (1.4.1)\n",
            "Requirement already satisfied: pandas>=0.21.1 in /usr/local/lib/python3.7/dist-packages (from category_encoders) (1.1.5)\n",
            "Requirement already satisfied: numpy>=1.14.0 in /usr/local/lib/python3.7/dist-packages (from category_encoders) (1.19.5)\n",
            "Requirement already satisfied: statsmodels>=0.9.0 in /usr/local/lib/python3.7/dist-packages (from category_encoders) (0.10.2)\n",
            "Requirement already satisfied: python-dateutil>=2.7.3 in /usr/local/lib/python3.7/dist-packages (from pandas>=0.21.1->category_encoders) (2.8.2)\n",
            "Requirement already satisfied: pytz>=2017.2 in /usr/local/lib/python3.7/dist-packages (from pandas>=0.21.1->category_encoders) (2018.9)\n",
            "Requirement already satisfied: six in /usr/local/lib/python3.7/dist-packages (from patsy>=0.5.1->category_encoders) (1.15.0)\n",
            "Requirement already satisfied: threadpoolctl>=2.0.0 in /usr/local/lib/python3.7/dist-packages (from scikit-learn>=0.20.0->category_encoders) (3.0.0)\n",
            "Requirement already satisfied: joblib>=0.11 in /usr/local/lib/python3.7/dist-packages (from scikit-learn>=0.20.0->category_encoders) (1.1.0)\n",
            "Installing collected packages: category-encoders\n",
            "Successfully installed category-encoders-2.3.0\n"
          ]
        },
        {
          "output_type": "stream",
          "name": "stderr",
          "text": [
            "/usr/local/lib/python3.7/dist-packages/statsmodels/tools/_testing.py:19: FutureWarning: pandas.util.testing is deprecated. Use the functions in the public API at pandas.testing instead.\n",
            "  import pandas.util.testing as tm\n"
          ]
        }
      ]
    },
    {
      "cell_type": "code",
      "metadata": {
        "id": "jelV23U9l83a"
      },
      "source": [
        "# encode remaining variables with one-hot encoding\n",
        "\n",
        "encoder = ce.OneHotEncoder(cols=['Gender', 'Customer Type', 'Type of Travel', 'Class'])\n",
        "X_train = encoder.fit_transform(X_train)\n",
        "\n",
        "X_test = encoder.transform(X_test)"
      ],
      "execution_count": null,
      "outputs": []
    },
    {
      "cell_type": "code",
      "metadata": {
        "colab": {
          "base_uri": "https://localhost:8080/",
          "height": 278
        },
        "id": "3aRvO6P-mGav",
        "outputId": "2892c9f3-aec3-4aab-91fa-487d1b5547d8"
      },
      "source": [
        "X_train.head()"
      ],
      "execution_count": null,
      "outputs": [
        {
          "output_type": "execute_result",
          "data": {
            "text/html": [
              "<div>\n",
              "<style scoped>\n",
              "    .dataframe tbody tr th:only-of-type {\n",
              "        vertical-align: middle;\n",
              "    }\n",
              "\n",
              "    .dataframe tbody tr th {\n",
              "        vertical-align: top;\n",
              "    }\n",
              "\n",
              "    .dataframe thead th {\n",
              "        text-align: right;\n",
              "    }\n",
              "</style>\n",
              "<table border=\"1\" class=\"dataframe\">\n",
              "  <thead>\n",
              "    <tr style=\"text-align: right;\">\n",
              "      <th></th>\n",
              "      <th>Gender_1</th>\n",
              "      <th>Gender_2</th>\n",
              "      <th>Customer Type_1</th>\n",
              "      <th>Customer Type_2</th>\n",
              "      <th>Age</th>\n",
              "      <th>Type of Travel_1</th>\n",
              "      <th>Type of Travel_2</th>\n",
              "      <th>Class_1</th>\n",
              "      <th>Class_2</th>\n",
              "      <th>Class_3</th>\n",
              "      <th>Flight Distance</th>\n",
              "      <th>Seat comfort</th>\n",
              "      <th>Departure/Arrival time convenient</th>\n",
              "      <th>Food and drink</th>\n",
              "      <th>Gate location</th>\n",
              "      <th>Inflight wifi service</th>\n",
              "      <th>Inflight entertainment</th>\n",
              "      <th>Online support</th>\n",
              "      <th>Ease of Online booking</th>\n",
              "      <th>On-board service</th>\n",
              "      <th>Leg room service</th>\n",
              "      <th>Baggage handling</th>\n",
              "      <th>Checkin service</th>\n",
              "      <th>Cleanliness</th>\n",
              "      <th>Online boarding</th>\n",
              "      <th>Departure Delay in Minutes</th>\n",
              "      <th>Arrival Delay in Minutes</th>\n",
              "    </tr>\n",
              "  </thead>\n",
              "  <tbody>\n",
              "    <tr>\n",
              "      <th>83820</th>\n",
              "      <td>1</td>\n",
              "      <td>0</td>\n",
              "      <td>1</td>\n",
              "      <td>0</td>\n",
              "      <td>52</td>\n",
              "      <td>1</td>\n",
              "      <td>0</td>\n",
              "      <td>1</td>\n",
              "      <td>0</td>\n",
              "      <td>0</td>\n",
              "      <td>2186</td>\n",
              "      <td>3</td>\n",
              "      <td>2</td>\n",
              "      <td>2</td>\n",
              "      <td>2</td>\n",
              "      <td>1</td>\n",
              "      <td>2</td>\n",
              "      <td>2</td>\n",
              "      <td>3</td>\n",
              "      <td>3</td>\n",
              "      <td>3</td>\n",
              "      <td>3</td>\n",
              "      <td>3</td>\n",
              "      <td>3</td>\n",
              "      <td>3</td>\n",
              "      <td>0</td>\n",
              "      <td>0.0</td>\n",
              "    </tr>\n",
              "    <tr>\n",
              "      <th>28529</th>\n",
              "      <td>1</td>\n",
              "      <td>0</td>\n",
              "      <td>1</td>\n",
              "      <td>0</td>\n",
              "      <td>52</td>\n",
              "      <td>0</td>\n",
              "      <td>1</td>\n",
              "      <td>0</td>\n",
              "      <td>1</td>\n",
              "      <td>0</td>\n",
              "      <td>3005</td>\n",
              "      <td>3</td>\n",
              "      <td>5</td>\n",
              "      <td>2</td>\n",
              "      <td>4</td>\n",
              "      <td>2</td>\n",
              "      <td>2</td>\n",
              "      <td>2</td>\n",
              "      <td>3</td>\n",
              "      <td>2</td>\n",
              "      <td>5</td>\n",
              "      <td>4</td>\n",
              "      <td>2</td>\n",
              "      <td>5</td>\n",
              "      <td>2</td>\n",
              "      <td>154</td>\n",
              "      <td>148.0</td>\n",
              "    </tr>\n",
              "    <tr>\n",
              "      <th>98698</th>\n",
              "      <td>1</td>\n",
              "      <td>0</td>\n",
              "      <td>1</td>\n",
              "      <td>0</td>\n",
              "      <td>50</td>\n",
              "      <td>1</td>\n",
              "      <td>0</td>\n",
              "      <td>0</td>\n",
              "      <td>1</td>\n",
              "      <td>0</td>\n",
              "      <td>1375</td>\n",
              "      <td>4</td>\n",
              "      <td>2</td>\n",
              "      <td>2</td>\n",
              "      <td>2</td>\n",
              "      <td>4</td>\n",
              "      <td>4</td>\n",
              "      <td>4</td>\n",
              "      <td>4</td>\n",
              "      <td>3</td>\n",
              "      <td>2</td>\n",
              "      <td>5</td>\n",
              "      <td>4</td>\n",
              "      <td>4</td>\n",
              "      <td>4</td>\n",
              "      <td>6</td>\n",
              "      <td>0.0</td>\n",
              "    </tr>\n",
              "    <tr>\n",
              "      <th>125621</th>\n",
              "      <td>0</td>\n",
              "      <td>1</td>\n",
              "      <td>1</td>\n",
              "      <td>0</td>\n",
              "      <td>48</td>\n",
              "      <td>1</td>\n",
              "      <td>0</td>\n",
              "      <td>1</td>\n",
              "      <td>0</td>\n",
              "      <td>0</td>\n",
              "      <td>2421</td>\n",
              "      <td>2</td>\n",
              "      <td>2</td>\n",
              "      <td>2</td>\n",
              "      <td>2</td>\n",
              "      <td>5</td>\n",
              "      <td>4</td>\n",
              "      <td>5</td>\n",
              "      <td>5</td>\n",
              "      <td>5</td>\n",
              "      <td>5</td>\n",
              "      <td>5</td>\n",
              "      <td>3</td>\n",
              "      <td>5</td>\n",
              "      <td>4</td>\n",
              "      <td>44</td>\n",
              "      <td>64.0</td>\n",
              "    </tr>\n",
              "    <tr>\n",
              "      <th>121016</th>\n",
              "      <td>1</td>\n",
              "      <td>0</td>\n",
              "      <td>1</td>\n",
              "      <td>0</td>\n",
              "      <td>30</td>\n",
              "      <td>1</td>\n",
              "      <td>0</td>\n",
              "      <td>1</td>\n",
              "      <td>0</td>\n",
              "      <td>0</td>\n",
              "      <td>4267</td>\n",
              "      <td>3</td>\n",
              "      <td>3</td>\n",
              "      <td>3</td>\n",
              "      <td>3</td>\n",
              "      <td>5</td>\n",
              "      <td>5</td>\n",
              "      <td>5</td>\n",
              "      <td>5</td>\n",
              "      <td>3</td>\n",
              "      <td>2</td>\n",
              "      <td>4</td>\n",
              "      <td>5</td>\n",
              "      <td>4</td>\n",
              "      <td>5</td>\n",
              "      <td>0</td>\n",
              "      <td>0.0</td>\n",
              "    </tr>\n",
              "  </tbody>\n",
              "</table>\n",
              "</div>"
            ],
            "text/plain": [
              "        Gender_1  ...  Arrival Delay in Minutes\n",
              "83820          1  ...                       0.0\n",
              "28529          1  ...                     148.0\n",
              "98698          1  ...                       0.0\n",
              "125621         0  ...                      64.0\n",
              "121016         1  ...                       0.0\n",
              "\n",
              "[5 rows x 27 columns]"
            ]
          },
          "metadata": {},
          "execution_count": 20
        }
      ]
    },
    {
      "cell_type": "code",
      "metadata": {
        "colab": {
          "base_uri": "https://localhost:8080/",
          "height": 278
        },
        "id": "vUEgtMNzmaYr",
        "outputId": "7b807e39-1443-4ed8-9a05-82c5929009cb"
      },
      "source": [
        "X_test.head()"
      ],
      "execution_count": null,
      "outputs": [
        {
          "output_type": "execute_result",
          "data": {
            "text/html": [
              "<div>\n",
              "<style scoped>\n",
              "    .dataframe tbody tr th:only-of-type {\n",
              "        vertical-align: middle;\n",
              "    }\n",
              "\n",
              "    .dataframe tbody tr th {\n",
              "        vertical-align: top;\n",
              "    }\n",
              "\n",
              "    .dataframe thead th {\n",
              "        text-align: right;\n",
              "    }\n",
              "</style>\n",
              "<table border=\"1\" class=\"dataframe\">\n",
              "  <thead>\n",
              "    <tr style=\"text-align: right;\">\n",
              "      <th></th>\n",
              "      <th>Gender_1</th>\n",
              "      <th>Gender_2</th>\n",
              "      <th>Customer Type_1</th>\n",
              "      <th>Customer Type_2</th>\n",
              "      <th>Age</th>\n",
              "      <th>Type of Travel_1</th>\n",
              "      <th>Type of Travel_2</th>\n",
              "      <th>Class_1</th>\n",
              "      <th>Class_2</th>\n",
              "      <th>Class_3</th>\n",
              "      <th>Flight Distance</th>\n",
              "      <th>Seat comfort</th>\n",
              "      <th>Departure/Arrival time convenient</th>\n",
              "      <th>Food and drink</th>\n",
              "      <th>Gate location</th>\n",
              "      <th>Inflight wifi service</th>\n",
              "      <th>Inflight entertainment</th>\n",
              "      <th>Online support</th>\n",
              "      <th>Ease of Online booking</th>\n",
              "      <th>On-board service</th>\n",
              "      <th>Leg room service</th>\n",
              "      <th>Baggage handling</th>\n",
              "      <th>Checkin service</th>\n",
              "      <th>Cleanliness</th>\n",
              "      <th>Online boarding</th>\n",
              "      <th>Departure Delay in Minutes</th>\n",
              "      <th>Arrival Delay in Minutes</th>\n",
              "    </tr>\n",
              "  </thead>\n",
              "  <tbody>\n",
              "    <tr>\n",
              "      <th>77994</th>\n",
              "      <td>0</td>\n",
              "      <td>1</td>\n",
              "      <td>1</td>\n",
              "      <td>0</td>\n",
              "      <td>25</td>\n",
              "      <td>1</td>\n",
              "      <td>0</td>\n",
              "      <td>1</td>\n",
              "      <td>0</td>\n",
              "      <td>0</td>\n",
              "      <td>2847</td>\n",
              "      <td>3</td>\n",
              "      <td>3</td>\n",
              "      <td>3</td>\n",
              "      <td>3</td>\n",
              "      <td>3</td>\n",
              "      <td>2</td>\n",
              "      <td>3</td>\n",
              "      <td>3</td>\n",
              "      <td>1</td>\n",
              "      <td>5</td>\n",
              "      <td>2</td>\n",
              "      <td>2</td>\n",
              "      <td>4</td>\n",
              "      <td>3</td>\n",
              "      <td>59</td>\n",
              "      <td>47.0</td>\n",
              "    </tr>\n",
              "    <tr>\n",
              "      <th>11151</th>\n",
              "      <td>1</td>\n",
              "      <td>0</td>\n",
              "      <td>1</td>\n",
              "      <td>0</td>\n",
              "      <td>38</td>\n",
              "      <td>0</td>\n",
              "      <td>1</td>\n",
              "      <td>1</td>\n",
              "      <td>0</td>\n",
              "      <td>0</td>\n",
              "      <td>737</td>\n",
              "      <td>2</td>\n",
              "      <td>3</td>\n",
              "      <td>2</td>\n",
              "      <td>3</td>\n",
              "      <td>3</td>\n",
              "      <td>1</td>\n",
              "      <td>4</td>\n",
              "      <td>5</td>\n",
              "      <td>5</td>\n",
              "      <td>2</td>\n",
              "      <td>4</td>\n",
              "      <td>5</td>\n",
              "      <td>5</td>\n",
              "      <td>3</td>\n",
              "      <td>1</td>\n",
              "      <td>16.0</td>\n",
              "    </tr>\n",
              "    <tr>\n",
              "      <th>29523</th>\n",
              "      <td>1</td>\n",
              "      <td>0</td>\n",
              "      <td>1</td>\n",
              "      <td>0</td>\n",
              "      <td>54</td>\n",
              "      <td>0</td>\n",
              "      <td>1</td>\n",
              "      <td>0</td>\n",
              "      <td>1</td>\n",
              "      <td>0</td>\n",
              "      <td>2343</td>\n",
              "      <td>3</td>\n",
              "      <td>5</td>\n",
              "      <td>3</td>\n",
              "      <td>2</td>\n",
              "      <td>2</td>\n",
              "      <td>3</td>\n",
              "      <td>2</td>\n",
              "      <td>2</td>\n",
              "      <td>3</td>\n",
              "      <td>2</td>\n",
              "      <td>2</td>\n",
              "      <td>5</td>\n",
              "      <td>2</td>\n",
              "      <td>2</td>\n",
              "      <td>0</td>\n",
              "      <td>0.0</td>\n",
              "    </tr>\n",
              "    <tr>\n",
              "      <th>39422</th>\n",
              "      <td>1</td>\n",
              "      <td>0</td>\n",
              "      <td>1</td>\n",
              "      <td>0</td>\n",
              "      <td>52</td>\n",
              "      <td>0</td>\n",
              "      <td>1</td>\n",
              "      <td>0</td>\n",
              "      <td>0</td>\n",
              "      <td>1</td>\n",
              "      <td>2132</td>\n",
              "      <td>5</td>\n",
              "      <td>4</td>\n",
              "      <td>5</td>\n",
              "      <td>5</td>\n",
              "      <td>2</td>\n",
              "      <td>5</td>\n",
              "      <td>2</td>\n",
              "      <td>2</td>\n",
              "      <td>5</td>\n",
              "      <td>2</td>\n",
              "      <td>5</td>\n",
              "      <td>4</td>\n",
              "      <td>5</td>\n",
              "      <td>2</td>\n",
              "      <td>21</td>\n",
              "      <td>12.0</td>\n",
              "    </tr>\n",
              "    <tr>\n",
              "      <th>39773</th>\n",
              "      <td>0</td>\n",
              "      <td>1</td>\n",
              "      <td>1</td>\n",
              "      <td>0</td>\n",
              "      <td>29</td>\n",
              "      <td>0</td>\n",
              "      <td>1</td>\n",
              "      <td>0</td>\n",
              "      <td>1</td>\n",
              "      <td>0</td>\n",
              "      <td>2081</td>\n",
              "      <td>5</td>\n",
              "      <td>5</td>\n",
              "      <td>5</td>\n",
              "      <td>3</td>\n",
              "      <td>5</td>\n",
              "      <td>5</td>\n",
              "      <td>4</td>\n",
              "      <td>5</td>\n",
              "      <td>4</td>\n",
              "      <td>3</td>\n",
              "      <td>4</td>\n",
              "      <td>5</td>\n",
              "      <td>4</td>\n",
              "      <td>5</td>\n",
              "      <td>0</td>\n",
              "      <td>0.0</td>\n",
              "    </tr>\n",
              "  </tbody>\n",
              "</table>\n",
              "</div>"
            ],
            "text/plain": [
              "       Gender_1  Gender_2  ...  Departure Delay in Minutes  Arrival Delay in Minutes\n",
              "77994         0         1  ...                          59                      47.0\n",
              "11151         1         0  ...                           1                      16.0\n",
              "29523         1         0  ...                           0                       0.0\n",
              "39422         1         0  ...                          21                      12.0\n",
              "39773         0         1  ...                           0                       0.0\n",
              "\n",
              "[5 rows x 27 columns]"
            ]
          },
          "metadata": {},
          "execution_count": 21
        }
      ]
    },
    {
      "cell_type": "code",
      "metadata": {
        "id": "aK9qrDIQ0VQh",
        "colab": {
          "base_uri": "https://localhost:8080/"
        },
        "outputId": "a2d26a9f-894b-47f6-e757-0ed66a6ac4af"
      },
      "source": [
        "#  Building Random Forest Model\n",
        "# set K = 700\n",
        "\n",
        "from sklearn import ensemble\n",
        "R_forest= ensemble.RandomForestClassifier(n_estimators=700, random_state=0)\n",
        "R_forest.fit(X_train, y_train)"
      ],
      "execution_count": null,
      "outputs": [
        {
          "output_type": "execute_result",
          "data": {
            "text/plain": [
              "RandomForestClassifier(n_estimators=700, random_state=0)"
            ]
          },
          "metadata": {},
          "execution_count": 22
        }
      ]
    },
    {
      "cell_type": "code",
      "metadata": {
        "id": "zM-5-SG40aO_",
        "colab": {
          "base_uri": "https://localhost:8080/",
          "height": 389
        },
        "outputId": "9a26e02a-1e58-44be-e1fd-188b7e363ebf"
      },
      "source": [
        "# Accuracy on train data \n",
        "from sklearn.metrics import confusion_matrix\n",
        "import matplotlib.pyplot as plt\n",
        "import seaborn as sns\n",
        "\n",
        "forest_predict1=R_forest.predict(X_train)\n",
        "cm1 = confusion_matrix(y_train, forest_predict1)\n",
        "accuracy_train=(cm1[0,0]+cm1[1,1])/sum(sum(cm1))\n",
        "print(\"Random Forest Accuracy on Train data = \", round(accuracy_train,2))\n",
        "\n",
        "# create heatmap\n",
        "fig, ax = plt.subplots()\n",
        "sns.heatmap(pd.DataFrame(cm1), annot=True, cmap=\"YlGnBu\" ,fmt='d')\n",
        "ax.xaxis.set_label_position(\"top\")\n",
        "plt.tight_layout()\n",
        "plt.title('\\nConfusion matrix\\n', y=1.1)\n",
        "plt.ylabel('Actual label')\n",
        "plt.xlabel('Predicted label')"
      ],
      "execution_count": null,
      "outputs": [
        {
          "output_type": "stream",
          "name": "stdout",
          "text": [
            "Random Forest Accuracy on Train data =  1.0\n"
          ]
        },
        {
          "output_type": "execute_result",
          "data": {
            "text/plain": [
              "Text(0.5, 257.44, 'Predicted label')"
            ]
          },
          "metadata": {},
          "execution_count": 25
        },
        {
          "output_type": "display_data",
          "data": {
            "image/png": "[encoded data removed]",
            "text/plain": [
              "<Figure size 432x288 with 2 Axes>"
            ]
          },
          "metadata": {
            "needs_background": "light"
          }
        }
      ]
    },
    {
      "cell_type": "code",
      "metadata": {
        "id": "Y3NS_Qgu0cEb",
        "colab": {
          "base_uri": "https://localhost:8080/",
          "height": 389
        },
        "outputId": "de0f5b18-36f5-467a-d7dd-424a2b2c5628"
      },
      "source": [
        "# Accuracy on test data \n",
        "from sklearn.metrics import confusion_matrix\n",
        "import matplotlib.pyplot as plt\n",
        "import seaborn as sns\n",
        "\n",
        "forest_predict2=R_forest.predict(X_test)\n",
        "cm2 = confusion_matrix(y_test, forest_predict2)\n",
        "accuracy_test=(cm2[0,0]+cm2[1,1])/sum(sum(cm2))\n",
        "print(\"Random Forest Accuracy on Test data = \", round(accuracy_test,2))\n",
        "\n",
        "# create heatmap\n",
        "fig, ax = plt.subplots()\n",
        "sns.heatmap(pd.DataFrame(cm2), annot=True, cmap=\"YlGnBu\" ,fmt='d')\n",
        "ax.xaxis.set_label_position(\"top\")\n",
        "plt.tight_layout()\n",
        "plt.title('\\nConfusion matrix\\n', y=1.1)\n",
        "plt.ylabel('Actual label')\n",
        "plt.xlabel('Predicted label')"
      ],
      "execution_count": null,
      "outputs": [
        {
          "output_type": "stream",
          "name": "stdout",
          "text": [
            "Random Forest Accuracy on Test data =  0.96\n"
          ]
        },
        {
          "output_type": "execute_result",
          "data": {
            "text/plain": [
              "Text(0.5, 257.44, 'Predicted label')"
            ]
          },
          "metadata": {},
          "execution_count": 26
        },
        {
          "output_type": "display_data",
          "data": {
            "image/png": "[encoded data removed]",
            "text/plain": [
              "<Figure size 432x288 with 2 Axes>"
            ]
          },
          "metadata": {
            "needs_background": "light"
          }
        }
      ]
    },
    {
      "cell_type": "code",
      "metadata": {
        "id": "g-yjuQYEEmn7",
        "colab": {
          "base_uri": "https://localhost:8080/"
        },
        "outputId": "aa35a39f-cf03-4cf5-f19c-7bcfbe6f41c6"
      },
      "source": [
        " # AUC on Train data\n",
        "from sklearn.metrics import roc_curve\n",
        "from sklearn.metrics import auc\n",
        "false_positive_rate, true_positive_rate, thresholds = roc_curve(y_train, forest_predict1)\n",
        "auc_train = auc(false_positive_rate, true_positive_rate)\n",
        "print(\"Random Forest AUC on Train data = \", round(auc_train,2))"
      ],
      "execution_count": null,
      "outputs": [
        {
          "output_type": "stream",
          "name": "stdout",
          "text": [
            "Random Forest AUC on Train data =  1.0\n"
          ]
        }
      ]
    },
    {
      "cell_type": "code",
      "metadata": {
        "id": "4ZOxTgjfEm-C",
        "colab": {
          "base_uri": "https://localhost:8080/"
        },
        "outputId": "e387d4cb-2ec7-48a2-a3c7-4f77b95cfd43"
      },
      "source": [
        "# AUC on Test data\n",
        "from sklearn.metrics import roc_curve\n",
        "from sklearn.metrics import auc\n",
        "false_positive_rate, true_positive_rate, thresholds = roc_curve(y_test, forest_predict2)\n",
        "auc_test = auc(false_positive_rate, true_positive_rate)\n",
        "print(\"Random Forest AUC on Test data = \", round(auc_test,2))"
      ],
      "execution_count": null,
      "outputs": [
        {
          "output_type": "stream",
          "name": "stdout",
          "text": [
            "Random Forest AUC on Test data =  0.96\n"
          ]
        }
      ]
    },
    {
      "cell_type": "code",
      "metadata": {
        "colab": {
          "base_uri": "https://localhost:8080/"
        },
        "id": "uwkQO_3YXY1i",
        "outputId": "10a0346e-35fd-4cb2-e66c-ac9a4afd8c24"
      },
      "source": [
        "from sklearn.metrics import classification_report\n",
        "print(classification_report(y_test,forest_predict2))"
      ],
      "execution_count": null,
      "outputs": [
        {
          "output_type": "stream",
          "name": "stdout",
          "text": [
            "              precision    recall  f1-score   support\n",
            "\n",
            "           0       0.95      0.96      0.95     11832\n",
            "           1       0.97      0.95      0.96     14144\n",
            "\n",
            "    accuracy                           0.96     25976\n",
            "   macro avg       0.96      0.96      0.96     25976\n",
            "weighted avg       0.96      0.96      0.96     25976\n",
            "\n"
          ]
        }
      ]
    },
    {
      "cell_type": "code",
      "metadata": {
        "colab": {
          "base_uri": "https://localhost:8080/"
        },
        "id": "eLjInAgM7Y8c",
        "outputId": "58aab9d6-a231-4bd8-b289-877bcaf7041d"
      },
      "source": [
        "#Key Feature\n",
        "feature_score = pd.Series(R_forest.feature_importances_, index=X_train.columns).sort_values(ascending=False)\n",
        "feature_score"
      ],
      "execution_count": null,
      "outputs": [
        {
          "output_type": "execute_result",
          "data": {
            "text/plain": [
              "Inflight entertainment               0.196079\n",
              "Seat comfort                         0.124823\n",
              "Ease of Online booking               0.073253\n",
              "Online support                       0.063246\n",
              "On-board service                     0.039574\n",
              "Food and drink                       0.037689\n",
              "Leg room service                     0.035712\n",
              "Online boarding                      0.033717\n",
              "Flight Distance                      0.031199\n",
              "Age                                  0.028842\n",
              "Customer Type_2                      0.028167\n",
              "Customer Type_1                      0.027953\n",
              "Checkin service                      0.025620\n",
              "Baggage handling                     0.025409\n",
              "Cleanliness                          0.023472\n",
              "Gender_2                             0.023328\n",
              "Class_1                              0.023163\n",
              "Gender_1                             0.022433\n",
              "Departure/Arrival time convenient    0.020449\n",
              "Type of Travel_2                     0.020035\n",
              "Type of Travel_1                     0.019335\n",
              "Gate location                        0.018223\n",
              "Arrival Delay in Minutes             0.015619\n",
              "Departure Delay in Minutes           0.014205\n",
              "Inflight wifi service                0.013676\n",
              "Class_2                              0.012634\n",
              "Class_3                              0.002147\n",
              "dtype: float64"
            ]
          },
          "metadata": {},
          "execution_count": 30
        }
      ]
    },
    {
      "cell_type": "code",
      "metadata": {
        "colab": {
          "base_uri": "https://localhost:8080/",
          "height": 1000
        },
        "id": "3Qq41Q2wzqwI",
        "outputId": "ffe20734-a74e-4500-a8e6-03ccd9da01da"
      },
      "source": [
        "#Graph of Key Feature\n",
        "f, ax = plt.subplots(figsize=(30, 24))\n",
        "ax = sns.barplot(x=feature_score, y=feature_score.index, data=service_train)\n",
        "ax.set_title(\"Visualize feature scores of the features\")\n",
        "ax.set_yticklabels(feature_score.index)\n",
        "ax.set_xlabel(\"Feature importance score\")\n",
        "ax.set_ylabel(\"Features\")\n",
        "plt.show()"
      ],
      "execution_count": null,
      "outputs": [
        {
          "output_type": "display_data",
          "data": {
            "image/png": "[encoded data removed]",
            "text/plain": [
              "<Figure size 2160x1728 with 1 Axes>"
            ]
          },
          "metadata": {
            "needs_background": "light"
          }
        }
      ]
    }
  ]
}